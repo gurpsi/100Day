{
 "cells": [
  {
   "cell_type": "code",
   "execution_count": 1,
   "metadata": {},
   "outputs": [
    {
     "name": "stdout",
     "output_type": "stream",
     "text": [
      "Enter your Name: John\n",
      "length of characters:  4\n"
     ]
    }
   ],
   "source": [
    "print('length of characters: ', len(input('Enter your Name: ')))"
   ]
  },
  {
   "cell_type": "code",
   "execution_count": 2,
   "metadata": {},
   "outputs": [
    {
     "name": "stdout",
     "output_type": "stream",
     "text": [
      "a: 10\n",
      "b: 100\n",
      "a: 100\n",
      "b: 10\n"
     ]
    }
   ],
   "source": [
    "# Interchnging the values\n",
    "a = input(\"a: \")\n",
    "b = input(\"b: \")\n",
    "\n",
    "a,b = b,a\n",
    "\n",
    "print(\"a: \" + a)\n",
    "print(\"b: \" + b)\n"
   ]
  },
  {
   "cell_type": "code",
   "execution_count": 3,
   "metadata": {},
   "outputs": [
    {
     "name": "stdout",
     "output_type": "stream",
     "text": [
      "Welcome to brand name generator\n",
      "\n",
      "Enter the name of the city you grew up?\n",
      "Rio\n",
      "Enter the name of your pet?\n",
      "Jack\n",
      "Your brand name can be Rio Jack\n"
     ]
    }
   ],
   "source": [
    "print('Welcome to brand name generator\\n')\n",
    "city = input('Enter the name of the city you grew up?\\n')\n",
    "pet = input('Enter the name of your pet?\\n')\n",
    "print(\"Your brand name can be \"+ city + ' ' + pet )"
   ]
  },
  {
   "cell_type": "code",
   "execution_count": null,
   "metadata": {},
   "outputs": [],
   "source": []
  }
 ],
 "metadata": {
  "kernelspec": {
   "display_name": "Python 3",
   "language": "python",
   "name": "python3"
  },
  "language_info": {
   "codemirror_mode": {
    "name": "ipython",
    "version": 3
   },
   "file_extension": ".py",
   "mimetype": "text/x-python",
   "name": "python",
   "nbconvert_exporter": "python",
   "pygments_lexer": "ipython3",
   "version": "3.9.0"
  }
 },
 "nbformat": 4,
 "nbformat_minor": 4
}
